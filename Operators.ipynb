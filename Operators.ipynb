{
 "cells": [
  {
   "cell_type": "markdown",
   "metadata": {},
   "source": [
    "# Operators\n",
    "- arithmetic\n",
    "- logical/Relational\n",
    "- boolean\n",
    "- bitwise (vastly used for competitive coding)"
   ]
  },
  {
   "cell_type": "code",
   "execution_count": 1,
   "metadata": {},
   "outputs": [
    {
     "name": "stdout",
     "output_type": "stream",
     "text": [
      "7\n",
      "-1\n",
      "12\n",
      "0.75\n",
      "0\n",
      "3\n",
      "81\n"
     ]
    }
   ],
   "source": [
    "#Arithmetic\n",
    "x,y = 3,4\n",
    "print(x+y)\n",
    "print(x-y)\n",
    "print(x*y)\n",
    "print(x/y) #float division\n",
    "print(x//y) #floor division\n",
    "print(x%y) #returns reminder\n",
    "print(x**y) #power"
   ]
  },
  {
   "cell_type": "markdown",
   "metadata": {},
   "source": [
    "Logical\n",
    "- x > y\n",
    "- x < y\n",
    "- x == y\n",
    "- x != y \n",
    "- x >= y\n",
    "- x <= y"
   ]
  },
  {
   "cell_type": "code",
   "execution_count": 2,
   "metadata": {},
   "outputs": [
    {
     "name": "stdout",
     "output_type": "stream",
     "text": [
      "False\n",
      "True\n"
     ]
    }
   ],
   "source": [
    "#logical/Relational\n",
    "print((8>2) and (4>4))\n",
    "print((6>=3) or (6>9))"
   ]
  },
  {
   "cell_type": "code",
   "execution_count": 3,
   "metadata": {},
   "outputs": [
    {
     "name": "stdout",
     "output_type": "stream",
     "text": [
      "False\n",
      "True\n"
     ]
    }
   ],
   "source": [
    "#boolean \n",
    "print(not True)\n",
    "print(not (2>5))"
   ]
  },
  {
   "cell_type": "code",
   "execution_count": 4,
   "metadata": {},
   "outputs": [
    {
     "name": "stdout",
     "output_type": "stream",
     "text": [
      "0\n",
      "14\n",
      "-11\n",
      "14\n",
      "5\n",
      "20\n"
     ]
    }
   ],
   "source": [
    "#bitwise\n",
    "print(10 & 4) #AND returns 1 if both bits are 1 else 0\n",
    "print(10 | 4) #OR returns 1 if either bits are 1\n",
    "print(~10) #NOT returns one's compliment (binary + 1)\n",
    "print(10^4) #XOR returns 0 if both bits are same else 1\n",
    "#bitwise shift operators\n",
    "print(10 >> 1) #Right Shift- shifts bits to the right and fills 0 on the void on left\n",
    "print(10 << 1) #Left Shift- shifts bits to the left and fills 0 on the void on right"
   ]
  },
  {
   "cell_type": "code",
   "execution_count": 5,
   "metadata": {},
   "outputs": [
    {
     "name": "stdout",
     "output_type": "stream",
     "text": [
      "b'1010'\n",
      "1010\n",
      "10\n"
     ]
    }
   ],
   "source": [
    "#bitwise is used in competitive programming mostly\n",
    "print(b\"1010\") #to convert into binary form\n",
    "print(r\"1010\") #to convert into raw string\n",
    "print(0b1010) #0b with any binary no. gives the decimal representation"
   ]
  },
  {
   "cell_type": "code",
   "execution_count": null,
   "metadata": {},
   "outputs": [],
   "source": []
  }
 ],
 "metadata": {
  "kernelspec": {
   "display_name": "Python 3",
   "language": "python",
   "name": "python3"
  },
  "language_info": {
   "codemirror_mode": {
    "name": "ipython",
    "version": 3
   },
   "file_extension": ".py",
   "mimetype": "text/x-python",
   "name": "python",
   "nbconvert_exporter": "python",
   "pygments_lexer": "ipython3",
   "version": "3.7.6"
  }
 },
 "nbformat": 4,
 "nbformat_minor": 4
}
