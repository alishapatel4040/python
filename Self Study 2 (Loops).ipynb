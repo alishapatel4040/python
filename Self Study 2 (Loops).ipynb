{
 "cells": [
  {
   "cell_type": "markdown",
   "metadata": {},
   "source": [
    "How is my food today? [if else condition]"
   ]
  },
  {
   "cell_type": "code",
   "execution_count": 2,
   "metadata": {},
   "outputs": [
    {
     "name": "stdout",
     "output_type": "stream",
     "text": [
      "\n",
      "Food is okay okay\n"
     ]
    }
   ],
   "source": [
    "food = input()\n",
    "if food==\"burnt\":\n",
    "    print(\"Food is bekar\")\n",
    "elif food==\"well cooked\":\n",
    "    print(\"Food is awesome\")\n",
    "else:\n",
    "    print(\"Food is okay okay\")"
   ]
  },
  {
   "cell_type": "markdown",
   "metadata": {},
   "source": [
    "For loop (repeats a group of statements a specified no. of times)"
   ]
  },
  {
   "cell_type": "code",
   "execution_count": 3,
   "metadata": {},
   "outputs": [
    {
     "name": "stdout",
     "output_type": "stream",
     "text": [
      "20,20 /30,50 /50,100 /20,120 /"
     ]
    }
   ],
   "source": [
    "list1 = [20, 30, 50, 20]\n",
    "total = 0\n",
    "for ele in list1:\n",
    "    total = total + ele\n",
    "    print(\"{},{}\".format(ele,total),end=\" /\")"
   ]
  },
  {
   "cell_type": "markdown",
   "metadata": {},
   "source": [
    "While Loop(keeps iterating till conditions are met) [no. of iterations = not fixed]"
   ]
  },
  {
   "cell_type": "code",
   "execution_count": 6,
   "metadata": {},
   "outputs": [
    {
     "name": "stdout",
     "output_type": "stream",
     "text": [
      "5\n",
      "items of rack 1 is stored\n",
      "items of rack 2 is stored\n",
      "items of rack 3 is stored\n",
      "items of rack 4 is stored\n",
      "items of rack 5 is stored\n",
      "food is stored\n"
     ]
    }
   ],
   "source": [
    "#store fruits in each rack ofa refrigerator\n",
    "racks = int(input())\n",
    "cur = 1\n",
    "while cur<=racks:\n",
    "    print(\"items of rack %d is stored\"%cur)\n",
    "    cur+=1\n",
    "print(\"food is stored\")\n"
   ]
  },
  {
   "cell_type": "markdown",
   "metadata": {},
   "source": [
    "### For loop (range func is used heavily here)\n",
    "- range(start,stop,step)"
   ]
  },
  {
   "cell_type": "code",
   "execution_count": 7,
   "metadata": {},
   "outputs": [
    {
     "name": "stdout",
     "output_type": "stream",
     "text": [
      "0.1\n",
      "1.3\n",
      "2.5\n",
      "3.7\n",
      "4.9\n"
     ]
    }
   ],
   "source": [
    "#for float values we define frange first\n",
    "def frange(start,stop,step):\n",
    "    i = start\n",
    "    while i < stop:\n",
    "        yield i\n",
    "        i += step\n",
    "for i in frange(0.1,5.7,1.2):\n",
    "    print(i)"
   ]
  },
  {
   "cell_type": "code",
   "execution_count": 8,
   "metadata": {},
   "outputs": [
    {
     "name": "stdout",
     "output_type": "stream",
     "text": [
      "2\n",
      "3\n",
      "4\n",
      "5\n",
      "6\n",
      "7\n",
      "8\n",
      "9\n"
     ]
    }
   ],
   "source": [
    "#Concatenation of two range functions\n",
    "for i in range(2,10,1):\n",
    "    print(i)"
   ]
  },
  {
   "cell_type": "code",
   "execution_count": 9,
   "metadata": {},
   "outputs": [
    {
     "name": "stdout",
     "output_type": "stream",
     "text": [
      "15\n",
      "12\n",
      "9\n",
      "6\n"
     ]
    }
   ],
   "source": [
    "#Reverse loop\n",
    "for i in range(15,3,-3):\n",
    "    print(i)"
   ]
  },
  {
   "cell_type": "code",
   "execution_count": 1,
   "metadata": {},
   "outputs": [],
   "source": [
    "#Nested loop (2d matrix, sieve of eratostheves, substrings)"
   ]
  },
  {
   "cell_type": "code",
   "execution_count": 10,
   "metadata": {},
   "outputs": [
    {
     "name": "stdout",
     "output_type": "stream",
     "text": [
      "2,3,4,6,7,8,9,terminated\n"
     ]
    }
   ],
   "source": [
    "#break, pass and continue\n",
    "for i in range(2,10):\n",
    "    if i==5:\n",
    "        continue\n",
    "    print(i,end=',')\n",
    "print(\"terminated\")\n"
   ]
  }
 ],
 "metadata": {
  "kernelspec": {
   "display_name": "Python 3",
   "language": "python",
   "name": "python3"
  },
  "language_info": {
   "codemirror_mode": {
    "name": "ipython",
    "version": 3
   },
   "file_extension": ".py",
   "mimetype": "text/x-python",
   "name": "python",
   "nbconvert_exporter": "python",
   "pygments_lexer": "ipython3",
   "version": "3.7.6"
  }
 },
 "nbformat": 4,
 "nbformat_minor": 4
}
