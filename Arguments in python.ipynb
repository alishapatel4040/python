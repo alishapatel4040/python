{
 "cells": [
  {
   "cell_type": "markdown",
   "metadata": {},
   "source": [
    "# Arguments\n",
    "Basically are of two types-\n",
    "- positional and keyword \n",
    "## Order\n",
    "Keyword arguments always follow positional arguments\n",
    "    - <b> Required , *args , keyworded/default, **kwargs\n",
    "### Variable Length Arguments\n",
    "    - <b> *args and **kwargs </b> (Optional arguments)"
   ]
  },
  {
   "cell_type": "code",
   "execution_count": 2,
   "metadata": {},
   "outputs": [
    {
     "name": "stdout",
     "output_type": "stream",
     "text": [
      "8\n",
      "('yayee', 'yes', 7)\n",
      "23\n",
      "{'pet': 'dogs'}\n"
     ]
    }
   ],
   "source": [
    "def show(w, x,*args, y = 3, z = 9,**kwargs):\n",
    "    print(w)\n",
    "    print(args)\n",
    "    print(y)\n",
    "    print(kwargs)\n",
    "show(8,9,\"yayee\", \"yes\",7,y = 23, pet = \"dogs\")"
   ]
  },
  {
   "cell_type": "markdown",
   "metadata": {},
   "source": [
    "## Variable length argument\n",
    "Suppose I am not sure how many arguments are to be passed inside the function"
   ]
  },
  {
   "cell_type": "code",
   "execution_count": 1,
   "metadata": {},
   "outputs": [
    {
     "name": "stdout",
     "output_type": "stream",
     "text": [
      "58\n",
      "pastry\n"
     ]
    }
   ],
   "source": [
    "#Packing of  positional arguments we use *\n",
    "def alisha(ab, bc,*ar): #packs any no. of positional arguments as a tuple\n",
    "    #and pass it to the function as \"ar\"\n",
    "    for i in ar:\n",
    "        print(i)\n",
    "#alisha(15,5.8,58,\"pastry\")\n",
    "alisha(15,5.8,58,\"pastry\")"
   ]
  },
  {
   "cell_type": "code",
   "execution_count": 3,
   "metadata": {},
   "outputs": [
    {
     "name": "stdout",
     "output_type": "stream",
     "text": [
      "{'rooms': 4, 'beds': 6, 'bathrooms': 4}\n"
     ]
    }
   ],
   "source": [
    "#for packing of keyworded arguments we use **\n",
    "#it will turn them into dictionary values\n",
    "def house(**kwargs):\n",
    "    print(kwargs)\n",
    "house(rooms = 4, beds = 6, bathrooms = 4)"
   ]
  },
  {
   "cell_type": "markdown",
   "metadata": {},
   "source": [
    "## Anonymous argument \n",
    "20204226 roll no ishiqa\n",
    "606892371865 - aadhar no\n",
    "(Left to take a note)"
   ]
  },
  {
   "cell_type": "code",
   "execution_count": 1,
   "metadata": {},
   "outputs": [
    {
     "name": "stdout",
     "output_type": "stream",
     "text": [
      "13\n",
      "alisha\n",
      "22\n",
      "ishiqa\n"
     ]
    }
   ],
   "source": [
    "#Required Argument\n",
    "def add(a,b,c,d,e):\n",
    "    print(a+b+c+d)\n",
    "    print(e)\n",
    "add(2,4,3,4,\"alisha\")\n",
    "#keyword argument\n",
    "add(c = 3,d = 4,a = 6,b = 9,e = \"ishiqa\") #c,d,a,b are formal parameters, 3,4,6,9 are actual parameters"
   ]
  },
  {
   "cell_type": "code",
   "execution_count": 3,
   "metadata": {},
   "outputs": [
    {
     "name": "stdout",
     "output_type": "stream",
     "text": [
      "17\n"
     ]
    }
   ],
   "source": [
    "#default argument\n",
    "def add1(g, h, i = 3, f = 2): #default arguments folows the positional arguments\n",
    "    print(i+f+g+h)\n",
    "add1(4,5,6)"
   ]
  },
  {
   "cell_type": "code",
   "execution_count": null,
   "metadata": {},
   "outputs": [],
   "source": []
  }
 ],
 "metadata": {
  "kernelspec": {
   "display_name": "Python 3",
   "language": "python",
   "name": "python3"
  },
  "language_info": {
   "codemirror_mode": {
    "name": "ipython",
    "version": 3
   },
   "file_extension": ".py",
   "mimetype": "text/x-python",
   "name": "python",
   "nbconvert_exporter": "python",
   "pygments_lexer": "ipython3",
   "version": "3.7.6"
  }
 },
 "nbformat": 4,
 "nbformat_minor": 4
}
