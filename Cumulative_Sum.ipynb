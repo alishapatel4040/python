{
 "cells": [
  {
   "cell_type": "markdown",
   "metadata": {},
   "source": [
    "Cumulative sum"
   ]
  },
  {
   "cell_type": "code",
   "execution_count": null,
   "metadata": {},
   "outputs": [],
   "source": [
    "cum = 0\n",
    "while cum>=0:\n",
    "    a = int(input())\n",
    "    cum = cum + a\n",
    "    if cum>0:\n",
    "        print(a)\n",
    "        print(cum)\n",
    "    else:\n",
    "        break"
   ]
  },
  {
   "cell_type": "code",
   "execution_count": null,
   "metadata": {},
   "outputs": [],
   "source": [
    "cum = 0\n",
    "list_of_ele = [] \n",
    "list_of_cum = []\n",
    "while cum>=0:\n",
    "    a = int(input())\n",
    "    cum = cum + a\n",
    "    if cum>0:\n",
    "        list_of_ele.append(a)\n",
    "        print(list_of_ele)\n",
    "        list_of_cum.append(cum)\n",
    "        print(list_of_cum)\n",
    "    else:\n",
    "        break"
   ]
  },
  {
   "cell_type": "code",
   "execution_count": null,
   "metadata": {},
   "outputs": [],
   "source": []
  }
 ],
 "metadata": {
  "kernelspec": {
   "display_name": "Python 3",
   "language": "python",
   "name": "python3"
  },
  "language_info": {
   "codemirror_mode": {
    "name": "ipython",
    "version": 3
   },
   "file_extension": ".py",
   "mimetype": "text/x-python",
   "name": "python",
   "nbconvert_exporter": "python",
   "pygments_lexer": "ipython3",
   "version": "3.7.6"
  }
 },
 "nbformat": 4,
 "nbformat_minor": 4
}
