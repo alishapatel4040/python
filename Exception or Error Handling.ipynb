{
 "cells": [
  {
   "cell_type": "markdown",
   "metadata": {},
   "source": [
    "# Errors can be of 3 types:\n",
    "- <b> Compile-Time Error </b> (Syntatical Error)\n",
    "- <b> Logical Error </b> (gets compiled, gives output which is wrong)\n",
    "- <b> Runtime Error </b> (user input wrong)\n",
    "    - ex- (a/b, if user gives b=0)\n",
    "    - a file gets deleted by user which is to be opened in the code"
   ]
  },
  {
   "cell_type": "code",
   "execution_count": 5,
   "metadata": {},
   "outputs": [
    {
     "name": "stdout",
     "output_type": "stream",
     "text": [
      "Hey you cannot divide a number by zero\n",
      "Bye\n"
     ]
    }
   ],
   "source": [
    "a = 5 #normal statement\n",
    "b = 0\n",
    "try:\n",
    "    print(a/b) #critical statement\n",
    "except Exception:\n",
    "    print(\"Hey you cannot divide a number by zero\")\n",
    "print(\"Bye\")"
   ]
  },
  {
   "cell_type": "code",
   "execution_count": null,
   "metadata": {},
   "outputs": [],
   "source": []
  }
 ],
 "metadata": {
  "kernelspec": {
   "display_name": "Python 3",
   "language": "python",
   "name": "python3"
  },
  "language_info": {
   "codemirror_mode": {
    "name": "ipython",
    "version": 3
   },
   "file_extension": ".py",
   "mimetype": "text/x-python",
   "name": "python",
   "nbconvert_exporter": "python",
   "pygments_lexer": "ipython3",
   "version": "3.7.6"
  }
 },
 "nbformat": 4,
 "nbformat_minor": 4
}
