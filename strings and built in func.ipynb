{
 "cells": [
  {
   "cell_type": "markdown",
   "metadata": {},
   "source": [
    "# Strings\n",
    "- immutable\n",
    "- hashable\n",
    "- indexable"
   ]
  },
  {
   "cell_type": "code",
   "execution_count": 1,
   "metadata": {},
   "outputs": [
    {
     "name": "stdout",
     "output_type": "stream",
     "text": [
      "i\n",
      "h\n",
      "6\n"
     ]
    }
   ],
   "source": [
    "x = \"alisha\"\n",
    "#Strings are not mutable \n",
    "print(x[2])\n",
    "print(x[-2])\n",
    "print(len(x))"
   ]
  },
  {
   "cell_type": "code",
   "execution_count": 2,
   "metadata": {},
   "outputs": [
    {
     "name": "stdout",
     "output_type": "stream",
     "text": [
      "alishan\n"
     ]
    }
   ],
   "source": [
    "x = \"alishan\"\n",
    "print(x)"
   ]
  },
  {
   "cell_type": "code",
   "execution_count": 3,
   "metadata": {},
   "outputs": [
    {
     "name": "stdout",
     "output_type": "stream",
     "text": [
      "a,l,i,s,h,a,n,"
     ]
    }
   ],
   "source": [
    "for i in x:\n",
    "    print(i,end = \",\")"
   ]
  },
  {
   "cell_type": "code",
   "execution_count": 4,
   "metadata": {},
   "outputs": [
    {
     "name": "stdout",
     "output_type": "stream",
     "text": [
      "alishanishiqa\n",
      "alishanalishan\n"
     ]
    }
   ],
   "source": [
    "b= \"ishiqa\"\n",
    "print(x+b)\n",
    "print(x*2)"
   ]
  },
  {
   "cell_type": "markdown",
   "metadata": {},
   "source": [
    "Slicing also used for finding substrings \n",
    "- String[ start_index: end_index +1:step_size]\n",
    "    - Step size will be negative for reversing a string"
   ]
  },
  {
   "cell_type": "code",
   "execution_count": 5,
   "metadata": {},
   "outputs": [
    {
     "name": "stdout",
     "output_type": "stream",
     "text": [
      "['   I ', 'love', ' Pizza']\n",
      "I .love. Pizza\n",
      "i\n",
      "  I .lo\n",
      "17\n",
      "Pizza\n",
      " I.oe \n",
      "azziP .evol. I   \n"
     ]
    }
   ],
   "source": [
    "st = \"   I .love. Pizza\"\n",
    "#split funtion\n",
    "a = st.split(sep=\".\")\n",
    "print(a)\n",
    "#strip function\n",
    "ab = st.strip()\n",
    "print(ab)\n",
    "#slicing\n",
    "print(x[2])\n",
    "print(st[1:8])\n",
    "print(len(st))\n",
    "print(st[12:])\n",
    "print(st[1:12:2])\n",
    "#reverse the string\n",
    "print(st[::-1])"
   ]
  },
  {
   "cell_type": "code",
   "execution_count": 6,
   "metadata": {},
   "outputs": [
    {
     "name": "stdout",
     "output_type": "stream",
     "text": [
      "lishan\n",
      "lis\n",
      "alishan\n",
      "n\n",
      "han\n"
     ]
    }
   ],
   "source": [
    "#Range slicing a[start:end+1]\n",
    "print(x[1:])\n",
    "print(x[1:4])\n",
    "print(x[ : ])\n",
    "print(x[-1:])\n",
    "print(x[-3:])\n"
   ]
  },
  {
   "cell_type": "code",
   "execution_count": 7,
   "metadata": {},
   "outputs": [
    {
     "name": "stdout",
     "output_type": "stream",
     "text": [
      "a\n",
      "z\n"
     ]
    }
   ],
   "source": [
    "#backward/negative indexing\n",
    "print(st[-1])\n",
    "print(st[-2])"
   ]
  },
  {
   "cell_type": "code",
   "execution_count": 8,
   "metadata": {},
   "outputs": [
    {
     "name": "stdout",
     "output_type": "stream",
     "text": [
      "Yes\n"
     ]
    }
   ],
   "source": [
    "#Membership - if substring is present in bigger string\n",
    "y = \"Alisha and Isha are sisters\"\n",
    "z = \"Isha\"\n",
    "if z in y:\n",
    "    print(\"Yes\")\n",
    "else:\n",
    "    print(\"No\")\n",
    "#if z not in y (negative effect)\n",
    "    "
   ]
  },
  {
   "cell_type": "code",
   "execution_count": 9,
   "metadata": {},
   "outputs": [
    {
     "name": "stdout",
     "output_type": "stream",
     "text": [
      "My sister is Isha and her age is 16\n"
     ]
    }
   ],
   "source": [
    "#string formatting\n",
    "print(\"My sister is %s and her age is %d\"%(\"Isha\",16))"
   ]
  },
  {
   "cell_type": "code",
   "execution_count": 1,
   "metadata": {},
   "outputs": [
    {
     "name": "stdout",
     "output_type": "stream",
     "text": [
      "I am Alisha.\n",
      "I love food.\n",
      "I love to dance\n",
      "['I', 'am', 'Alisha.', 'I', 'love', 'food.', 'I', 'love', 'to', 'dance']\n",
      "['I am Alisha.', 'I love food.', 'I love to dance']\n"
     ]
    }
   ],
   "source": [
    "para = \"\"\"I am Alisha.\n",
    "I love food.\n",
    "I love to dance\"\"\"\n",
    "print(para)\n",
    "x = para.split()\n",
    "print(x)\n",
    "y = para.splitlines()\n",
    "print(y)"
   ]
  },
  {
   "cell_type": "code",
   "execution_count": 11,
   "metadata": {},
   "outputs": [
    {
     "name": "stdout",
     "output_type": "stream",
     "text": [
      "Ishiqa Patel\n",
      "Ishiqa Patel    \n",
      "    Ishiqa Patel\n",
      "True\n",
      "False\n",
      "True\n"
     ]
    }
   ],
   "source": [
    "xyz = \"    Ishiqa Patel    \"\n",
    "v = \"456\"\n",
    "h = \"no57\"\n",
    "print(xyz.strip())\n",
    "print(xyz.lstrip())\n",
    "print(xyz.rstrip())\n",
    "print(v.isdigit())\n",
    "print(xyz.isalpha())\n",
    "print(h.isalnum())\n",
    "#isspace()"
   ]
  },
  {
   "cell_type": "code",
   "execution_count": 12,
   "metadata": {},
   "outputs": [
    {
     "name": "stdout",
     "output_type": "stream",
     "text": [
      "10\n",
      "-1\n",
      "65\n",
      "38\n",
      "65\n",
      "10\n",
      "Ishiqa is intovert. Alisha is more intovert. Mamata is not intovert.\n",
      "3\n"
     ]
    }
   ],
   "source": [
    "#find- gives the index of the substring\n",
    "sen1 = \"Ishiqa is interactive. Alisha is more interactive. Mamata is not interactive.\"\n",
    "print(sen1.find(\"interactive\"))\n",
    "print(sen1.find(\"introvert\"))\n",
    "print(sen1.rfind(\"interactive\"))\n",
    "#(\"string\",starting index,ending index) for below\n",
    "print(sen1.find(\"interactive\",24,len(sen1)))\n",
    "print(sen1.rfind(\"interactive\",24,len(sen1)))\n",
    "#index- throws an exception if substring is not found\n",
    "print(sen1.index(\"interactive\"))\n",
    "print(sen1.replace(\"interactive\",\"intovert\"))\n",
    "print(sen1.count(\"interactive\"))"
   ]
  },
  {
   "cell_type": "code",
   "execution_count": 13,
   "metadata": {},
   "outputs": [
    {
     "name": "stdout",
     "output_type": "stream",
     "text": [
      "['Ishiqa', 'is', 'interactive.', 'Alisha', 'is', 'more', 'interactive.', 'Mamata', 'is', 'not', 'interactive.']\n",
      "Ishiqa # is # interactive. # Alisha # is # more # interactive. # Mamata # is # not # interactive.\n"
     ]
    }
   ],
   "source": [
    "#join\n",
    "words = sen1.split()\n",
    "print(words)\n",
    "print(\" # \".join(words))"
   ]
  },
  {
   "cell_type": "code",
   "execution_count": 14,
   "metadata": {},
   "outputs": [
    {
     "name": "stdout",
     "output_type": "stream",
     "text": [
      "Hbh jhui\n",
      "Hbh Jhui\n"
     ]
    }
   ],
   "source": [
    "myname = \"hbh jhui\"\n",
    "print(myname.capitalize())\n",
    "print(myname.title())"
   ]
  }
 ],
 "metadata": {
  "kernelspec": {
   "display_name": "Python 3",
   "language": "python",
   "name": "python3"
  },
  "language_info": {
   "codemirror_mode": {
    "name": "ipython",
    "version": 3
   },
   "file_extension": ".py",
   "mimetype": "text/x-python",
   "name": "python",
   "nbconvert_exporter": "python",
   "pygments_lexer": "ipython3",
   "version": "3.7.6"
  }
 },
 "nbformat": 4,
 "nbformat_minor": 4
}
