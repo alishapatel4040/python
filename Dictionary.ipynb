{
 "cells": [
  {
   "cell_type": "markdown",
   "metadata": {},
   "source": [
    "## uses HashMap concept to store elements\n",
    "- Keys-values are not sorted in any order (thus keys/values are not indexable)(can convert to list for indexing)\n",
    "- keys should be unique"
   ]
  },
  {
   "cell_type": "code",
   "execution_count": 6,
   "metadata": {},
   "outputs": [
    {
     "name": "stdout",
     "output_type": "stream",
     "text": [
      "{'apple': 120, 'mango': 140}\n",
      "{'apple': 120, 'mango': 140, 'guava': 90, 'apricot': [30, 40], 'banana': {'small': 10, 'big': 20}}\n"
     ]
    }
   ],
   "source": [
    "d = {\"apple\":120,\"mango\":140}\n",
    "print(d)\n",
    "d[\"guava\"] = 90\n",
    "d[\"apricot\"] = [30,40] #enter a list\n",
    "d[\"banana\"] = {\"small\":10,\"big\":20} #enter a dictionary\n",
    "print(d)"
   ]
  },
  {
   "cell_type": "markdown",
   "metadata": {},
   "source": [
    "# Common dictionary methods & Operators\n",
    "- get() (get a value for a given key)\n",
    "- items() (returns a list of tuples)\n",
    "- keys() (Returns list)\n",
    "- values() (Returns list)\n",
    "- clear() (d.clear() - clears the entire dictionary)\n",
    "- update() (merge two dictionaries)\n",
    "- in, not in (true if ele in present, true if ele is not present)\n",
    "- len()\n",
    "- del()"
   ]
  },
  {
   "cell_type": "code",
   "execution_count": 7,
   "metadata": {},
   "outputs": [
    {
     "name": "stdout",
     "output_type": "stream",
     "text": [
      "dict_keys(['apple', 'mango', 'guava', 'apricot', 'banana'])\n",
      "['apple', 'mango', 'guava', 'apricot', 'banana']\n",
      "dict_values([120, 140, 90, [30, 40], {'small': 10, 'big': 20}])\n"
     ]
    }
   ],
   "source": [
    "print(d.keys())\n",
    "keys = list(d.keys())\n",
    "print(keys)\n",
    "print(d.values())"
   ]
  },
  {
   "cell_type": "code",
   "execution_count": 8,
   "metadata": {},
   "outputs": [
    {
     "name": "stdout",
     "output_type": "stream",
     "text": [
      "140\n"
     ]
    }
   ],
   "source": [
    "print(d.get(\"mango\"))"
   ]
  },
  {
   "cell_type": "code",
   "execution_count": 9,
   "metadata": {},
   "outputs": [
    {
     "name": "stdout",
     "output_type": "stream",
     "text": [
      "doesn't exist\n"
     ]
    }
   ],
   "source": [
    "if \"Mango\" in d:\n",
    "    print(\"price of mango is %d\" %(d[\"Mango\"]))\n",
    "else:\n",
    "    print(\"doesn't exist\")"
   ]
  },
  {
   "cell_type": "code",
   "execution_count": 10,
   "metadata": {},
   "outputs": [
    {
     "name": "stdout",
     "output_type": "stream",
     "text": [
      "[('apple', 120), ('mango', 140), ('guava', 90), ('apricot', [30, 40]), ('banana', {'small': 10, 'big': 20})]\n"
     ]
    }
   ],
   "source": [
    "l = list(d.items())\n",
    "print(l)"
   ]
  },
  {
   "cell_type": "code",
   "execution_count": 11,
   "metadata": {},
   "outputs": [
    {
     "name": "stdout",
     "output_type": "stream",
     "text": [
      "{'mango': 140, 'guava': 90, 'apricot': [30, 40], 'banana': {'small': 10, 'big': 20}}\n"
     ]
    }
   ],
   "source": [
    "del d[\"apple\"]\n",
    "print(d)"
   ]
  },
  {
   "cell_type": "code",
   "execution_count": 12,
   "metadata": {},
   "outputs": [
    {
     "name": "stdout",
     "output_type": "stream",
     "text": [
      "{'mango': 140, 'guava': 90, 'apricot': [30, 40], 'banana': {'small': 10, 'big': 20}, 'pineapple': 130, 'avocado': 60}\n"
     ]
    }
   ],
   "source": [
    "d1 = {\"pineapple\": 130, \"avocado\": 60}\n",
    "d.update(d1)\n",
    "print(d)"
   ]
  },
  {
   "cell_type": "markdown",
   "metadata": {},
   "source": [
    "# Convert dict to list <-> list to dict\n",
    "- zip()"
   ]
  },
  {
   "cell_type": "code",
   "execution_count": 13,
   "metadata": {},
   "outputs": [
    {
     "name": "stdout",
     "output_type": "stream",
     "text": [
      "{'apple': 45, 'banana': 20, 'apricot': 60}\n"
     ]
    }
   ],
   "source": [
    "l1 = [\"apple\",\"banana\",\"apricot\"]\n",
    "l2 = [45,20,60]\n",
    "d1 = dict(zip(l1,l2))\n",
    "print(d1)"
   ]
  },
  {
   "cell_type": "markdown",
   "metadata": {},
   "source": [
    "To iterate over a dictionary"
   ]
  },
  {
   "cell_type": "code",
   "execution_count": 14,
   "metadata": {},
   "outputs": [
    {
     "name": "stdout",
     "output_type": "stream",
     "text": [
      "a p\n",
      "b a\n",
      "a p\n"
     ]
    }
   ],
   "source": [
    "for ele in d: #by default it iterate over the keys\n",
    "    print(ele[0] , ele[1])\n",
    "    for ele in d: #by default it iterate over the keys\n",
    "    print(ele[0] , ele[1])"
   ]
  },
  {
   "cell_type": "code",
   "execution_count": 43,
   "metadata": {},
   "outputs": [
    {
     "name": "stdout",
     "output_type": "stream",
     "text": [
      "apple\n",
      "banana\n",
      "apricot\n"
     ]
    }
   ],
   "source": [
    "for ele in d1.keys():\n",
    "    print(ele)"
   ]
  },
  {
   "cell_type": "code",
   "execution_count": 44,
   "metadata": {},
   "outputs": [
    {
     "name": "stdout",
     "output_type": "stream",
     "text": [
      "45\n",
      "20\n",
      "60\n"
     ]
    }
   ],
   "source": [
    "for ele in d1.values():\n",
    "    print(ele)"
   ]
  },
  {
   "cell_type": "code",
   "execution_count": null,
   "metadata": {},
   "outputs": [],
   "source": []
  }
 ],
 "metadata": {
  "kernelspec": {
   "display_name": "Python 3",
   "language": "python",
   "name": "python3"
  },
  "language_info": {
   "codemirror_mode": {
    "name": "ipython",
    "version": 3
   },
   "file_extension": ".py",
   "mimetype": "text/x-python",
   "name": "python",
   "nbconvert_exporter": "python",
   "pygments_lexer": "ipython3",
   "version": "3.7.6"
  }
 },
 "nbformat": 4,
 "nbformat_minor": 4
}
