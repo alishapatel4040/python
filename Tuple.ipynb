{
 "cells": [
  {
   "cell_type": "markdown",
   "metadata": {},
   "source": [
    "- Immutable\n",
    "- Indexable\n",
    "- heterogenous\n",
    "- safe \"write protected\" code"
   ]
  },
  {
   "cell_type": "code",
   "execution_count": 7,
   "metadata": {},
   "outputs": [
    {
     "name": "stdout",
     "output_type": "stream",
     "text": [
      "(2, 3, 4, 4, 3, 5, 2, 2)\n",
      "<class 'tuple'>\n",
      "3\n",
      "(1, 2, 4, 'hey', 'bye')\n",
      "(1, 2, 4, 1, 2, 4, 1, 2, 4)\n"
     ]
    }
   ],
   "source": [
    "tup1 = (2,3,4,4,3,5,2,2)\n",
    "t1 = (1,2,4)\n",
    "t2 = (\"hey\",\"bye\")\n",
    "print(tup1)\n",
    "print(type(tup1)) \n",
    "print(tup1[1]) #indexing\n",
    "print(t1+t2) #concatenation\n",
    "print(t1 * 3) #repetition\n"
   ]
  },
  {
   "cell_type": "code",
   "execution_count": 12,
   "metadata": {},
   "outputs": [
    {
     "data": {
      "text/plain": [
       "3"
      ]
     },
     "execution_count": 12,
     "metadata": {},
     "output_type": "execute_result"
    }
   ],
   "source": [
    "tup1.count(2)\n",
    "tup1.index(5)"
   ]
  },
  {
   "cell_type": "markdown",
   "metadata": {},
   "source": [
    "list inside a tuple"
   ]
  },
  {
   "cell_type": "code",
   "execution_count": 2,
   "metadata": {},
   "outputs": [
    {
     "name": "stdout",
     "output_type": "stream",
     "text": [
      "(3, 4, 5, [90, 100, 20, 23])\n"
     ]
    }
   ],
   "source": [
    "lis1 = [90,100,20]\n",
    "tup2 = (3,4,5,lis1)\n",
    "lis1.append(23)\n",
    "print(tup2)"
   ]
  },
  {
   "cell_type": "code",
   "execution_count": 4,
   "metadata": {},
   "outputs": [
    {
     "name": "stdout",
     "output_type": "stream",
     "text": [
      "[3, 4, 5, [90, 100, 20, 23]]\n",
      "(3, 4, 5, [90, 100, 20, 23])\n"
     ]
    }
   ],
   "source": [
    "# Convert a tuple into a list\n",
    "l = list(tup2)\n",
    "print(l)\n",
    "#convert a list into tuple\n",
    "t = tuple(l)\n",
    "print(t)"
   ]
  },
  {
   "cell_type": "markdown",
   "metadata": {},
   "source": [
    "Return multiple values of a function "
   ]
  },
  {
   "cell_type": "code",
   "execution_count": 12,
   "metadata": {},
   "outputs": [
    {
     "name": "stdout",
     "output_type": "stream",
     "text": [
      "Sum,Product,div,modulo = [15, 120, 0.8, 4]\n"
     ]
    }
   ],
   "source": [
    "def operations(a,b,c):\n",
    "    return [a+b+c,a*b*c,a/b,a%b] #getting returned as an object\n",
    "l1 = f'Sum,Product,div,modulo = {operations(4,5,6)}'\n",
    "print(l1)"
   ]
  },
  {
   "cell_type": "code",
   "execution_count": null,
   "metadata": {},
   "outputs": [],
   "source": []
  }
 ],
 "metadata": {
  "kernelspec": {
   "display_name": "Python 3",
   "language": "python",
   "name": "python3"
  },
  "language_info": {
   "codemirror_mode": {
    "name": "ipython",
    "version": 3
   },
   "file_extension": ".py",
   "mimetype": "text/x-python",
   "name": "python",
   "nbconvert_exporter": "python",
   "pygments_lexer": "ipython3",
   "version": "3.7.6"
  }
 },
 "nbformat": 4,
 "nbformat_minor": 4
}
