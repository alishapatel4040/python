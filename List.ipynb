{
 "cells": [
  {
   "cell_type": "markdown",
   "metadata": {},
   "source": [
    "## List\n",
    "- like an array\n",
    "- ordered\n",
    "- heterogenous (can put multiple data types inside a list)\n",
    "- mutable"
   ]
  },
  {
   "cell_type": "markdown",
   "metadata": {},
   "source": [
    "To create a list"
   ]
  },
  {
   "cell_type": "code",
   "execution_count": 1,
   "metadata": {},
   "outputs": [
    {
     "name": "stdout",
     "output_type": "stream",
     "text": [
      "[1, 2, 3.5, 'Alisha']\n",
      "[1, 2, 3.5, 'Alisha']\n",
      "[1, 8, 27, 64, 125]\n"
     ]
    }
   ],
   "source": [
    "l3 = list([1, 2, 3.5, \"Alisha\"]) #2nd way\n",
    "l4 = list(l3) #3rd way\n",
    "print(l3)\n",
    "print(l4)\n",
    "#using for loop\n",
    "#list of cubes of nos. from 1 to 5\n",
    "l6 = [i*i*i for i in range(1,6)] #4th way\n",
    "print(l6)"
   ]
  },
  {
   "cell_type": "markdown",
   "metadata": {},
   "source": [
    "Iterate over a list\n",
    "- using the len function\n",
    "- using for each loop"
   ]
  },
  {
   "cell_type": "code",
   "execution_count": 18,
   "metadata": {},
   "outputs": [
    {
     "name": "stdout",
     "output_type": "stream",
     "text": [
      "mango\n",
      "apple\n",
      "guava\n",
      "33\n"
     ]
    }
   ],
   "source": [
    "for i in range(len(fruits)):\n",
    "    print(fruits[i])"
   ]
  },
  {
   "cell_type": "code",
   "execution_count": 19,
   "metadata": {},
   "outputs": [
    {
     "name": "stdout",
     "output_type": "stream",
     "text": [
      "mango\n",
      "apple\n",
      "guava\n",
      "33\n"
     ]
    }
   ],
   "source": [
    "for x in fruits:\n",
    "    print(x)"
   ]
  },
  {
   "cell_type": "markdown",
   "metadata": {},
   "source": [
    "Append a list"
   ]
  },
  {
   "cell_type": "code",
   "execution_count": 2,
   "metadata": {},
   "outputs": [
    {
     "name": "stdout",
     "output_type": "stream",
     "text": [
      "[1, 2, 3, 4, 9, 8, 7]\n",
      "[3, 9, 8, 9, 8, 7]\n",
      "[3, 9, 8, 9, 8, 7, 9, 8, 7]\n"
     ]
    }
   ],
   "source": [
    "#append a list\n",
    "l1 = [1, 2, 3, 4]\n",
    "l2 = [9,8,7]\n",
    "print(l1 + l2) #1st way\n",
    "l5 = [3,9,8]\n",
    "l5 = l5 + l2 #2nd way\n",
    "print(l5)\n",
    "l5.extend(l2) #3rd way\n",
    "print(l5)"
   ]
  },
  {
   "cell_type": "markdown",
   "metadata": {},
   "source": [
    "List Slicing"
   ]
  },
  {
   "cell_type": "code",
   "execution_count": 3,
   "metadata": {},
   "outputs": [
    {
     "name": "stdout",
     "output_type": "stream",
     "text": [
      "[1, 2, 3, 4]\n",
      "[2, 3, 4]\n"
     ]
    }
   ],
   "source": [
    "print(l1[0:4])\n",
    "print(l1[-3:])"
   ]
  },
  {
   "cell_type": "markdown",
   "metadata": {},
   "source": [
    "# Insertion nd Deletion\n",
    "- <b> append </b> (inserts element at the ending of the list)\n",
    "- <b> insert </b> \n",
    "- remove\n",
    "- pop\n",
    "- del"
   ]
  },
  {
   "cell_type": "code",
   "execution_count": 11,
   "metadata": {},
   "outputs": [
    {
     "name": "stdout",
     "output_type": "stream",
     "text": [
      "[4, 5, 6]\n",
      "[1, 2, 3, 4, [9, 8, 7], 7, 8, 9, [9, 8, 7], 7, 8, 9, [9, 8, 7]]\n",
      "[1, 2, 3, 4, [9, 8, 7], 7, 8, 9, [9, 8, 7], 7, 8, 9, [9, 8, 7], 7, 8, 9]\n",
      "[4, 5, 6, [7, 8, 9]]\n"
     ]
    }
   ],
   "source": [
    "l = [4,5]\n",
    "l.append(6)\n",
    "print(l)\n",
    "l1.append(l2) #nested list\n",
    "print(l1)\n",
    "l1 += [7,8,9] #this only extends the list by 7,8,9, not by [7,8,9]\n",
    "print(l1)\n",
    "l.append([7,8,9])  #list of lists or 2d arrays\n",
    "print(l)"
   ]
  },
  {
   "cell_type": "code",
   "execution_count": null,
   "metadata": {},
   "outputs": [],
   "source": [
    "list2 = [33,45]\n",
    "list2.insert(2)"
   ]
  },
  {
   "cell_type": "code",
   "execution_count": 7,
   "metadata": {},
   "outputs": [
    {
     "name": "stdout",
     "output_type": "stream",
     "text": [
      "8\n"
     ]
    }
   ],
   "source": [
    "#indexing and accessing the values of a list\n",
    "print(l[3][1])\n"
   ]
  },
  {
   "cell_type": "code",
   "execution_count": 12,
   "metadata": {},
   "outputs": [
    {
     "name": "stdout",
     "output_type": "stream",
     "text": [
      "[5, 6, [7, 8, 9]]\n",
      "[6, [7, 8, 9]]\n"
     ]
    }
   ],
   "source": [
    "#removing elements\n",
    "l.remove(4) #elements wise deletion\n",
    "print(l)\n",
    "del l[0] #index wise deletion\n",
    "print(l)"
   ]
  },
  {
   "cell_type": "code",
   "execution_count": 13,
   "metadata": {},
   "outputs": [
    {
     "name": "stdout",
     "output_type": "stream",
     "text": [
      "[1, 2, 3, 4, [9, 8, 7], 7, 8, 9, [9, 8, 7], 7, 8, 9, [9, 8, 7], 7, 8, 9]\n"
     ]
    }
   ],
   "source": [
    "print(l1)"
   ]
  },
  {
   "cell_type": "code",
   "execution_count": 14,
   "metadata": {},
   "outputs": [
    {
     "name": "stdout",
     "output_type": "stream",
     "text": [
      "[1, 2, 3, 4, [9, 8, 7], 7, 8, 9, [9, 8, 7], 7, 8, 9, [9, 8, 7], 7, 8]\n"
     ]
    }
   ],
   "source": [
    "l1.pop() #last value will be deleted\n",
    "print(l1)"
   ]
  },
  {
   "cell_type": "code",
   "execution_count": 17,
   "metadata": {},
   "outputs": [
    {
     "name": "stdout",
     "output_type": "stream",
     "text": [
      "True\n"
     ]
    }
   ],
   "source": [
    "fruits = [\"mango\", \"apple\", \"guava\", 33]\n",
    "print(33 in fruits) #membership in operator"
   ]
  },
  {
   "cell_type": "code",
   "execution_count": 6,
   "metadata": {},
   "outputs": [
    {
     "name": "stdout",
     "output_type": "stream",
     "text": [
      "2\n",
      "[[[1, 2, 3], 5, 6], [4, 5, 6], [6, 8, 10], [2, 4, 6]]\n"
     ]
    }
   ],
   "source": [
    "#nested list\n",
    "numbers = [[2,4,6],[6,8,10],[4,5,6],[[1,2,3],5,6]]\n",
    "print(numbers[3][0][1])\n",
    "print(numbers[::-1]) #reverse the list"
   ]
  },
  {
   "cell_type": "code",
   "execution_count": 10,
   "metadata": {},
   "outputs": [
    {
     "name": "stdout",
     "output_type": "stream",
     "text": [
      "[1, 2, 24, 43]\n",
      "[1, 2, 24, 43]\n",
      "[100, 2, 24, 43]\n"
     ]
    }
   ],
   "source": [
    "list11 = [1,2,24,43]\n",
    "list2 = list11.copy()\n",
    "print(list2)\n",
    "list2[0] = 100\n",
    "print(list11)\n",
    "print(list2)"
   ]
  },
  {
   "cell_type": "code",
   "execution_count": 14,
   "metadata": {},
   "outputs": [
    {
     "name": "stdout",
     "output_type": "stream",
     "text": [
      "True\n",
      "False\n",
      "True\n"
     ]
    }
   ],
   "source": [
    "#in operator\n",
    "ab = [4,5,6]\n",
    "print(6 in ab)\n",
    "print(9 in ab)\n",
    "#for strings also we use in\n",
    "print(\"B\" in \"Baibhav\")"
   ]
  },
  {
   "cell_type": "code",
   "execution_count": null,
   "metadata": {},
   "outputs": [],
   "source": []
  }
 ],
 "metadata": {
  "kernelspec": {
   "display_name": "Python 3",
   "language": "python",
   "name": "python3"
  },
  "language_info": {
   "codemirror_mode": {
    "name": "ipython",
    "version": 3
   },
   "file_extension": ".py",
   "mimetype": "text/x-python",
   "name": "python",
   "nbconvert_exporter": "python",
   "pygments_lexer": "ipython3",
   "version": "3.7.6"
  }
 },
 "nbformat": 4,
 "nbformat_minor": 4
}
