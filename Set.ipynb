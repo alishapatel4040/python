{
 "cells": [
  {
   "cell_type": "markdown",
   "metadata": {},
   "source": [
    "# SET\n",
    "- stores unique elements\n",
    "- unordered\n",
    "- non indexable\n",
    "- mutable\n",
    "## storing elements\n",
    "- internally uses hash to store values\n",
    "- Set only contains immutable elements (strings, tuples)\n",
    "- doesn't store mutable elements like lists"
   ]
  },
  {
   "cell_type": "code",
   "execution_count": 1,
   "metadata": {},
   "outputs": [
    {
     "name": "stdout",
     "output_type": "stream",
     "text": [
      "{1, 2, 3, 4, 5, 6, 7, 8, 60}\n",
      "{1, 2, 3, 4, 6, 7, 45}\n"
     ]
    }
   ],
   "source": [
    "#creating a set\n",
    "s = {3,3,5,6,7,7,8,1,2,3,4,4,1,60}\n",
    "s1 = set([7,1,2,3,3,4,6,6,7,45])\n",
    "print(s)\n",
    "print(s1)"
   ]
  },
  {
   "cell_type": "markdown",
   "metadata": {},
   "source": [
    "Common Methods"
   ]
  },
  {
   "cell_type": "code",
   "execution_count": 12,
   "metadata": {},
   "outputs": [
    {
     "name": "stdout",
     "output_type": "stream",
     "text": [
      "{1, 2, 3, 4, 5, 6, 7, 8, 20, 60}\n",
      "{1, 2, 3, 4, 5, 6, 7, 8, 45, 20, 60}\n",
      "{1, 2, 3, 4, 5, 6, 7, 8, 45, 20, 60}\n",
      "{1, 2, 3, 4, 6, 7}\n",
      "{1, 2, 3, 4, 6, 7}\n",
      "{8, 20, 5, 60}\n",
      "{8, 20, 5, 60}\n",
      "{20, 5, 8, 60, 45}\n"
     ]
    }
   ],
   "source": [
    "s.add(20)\n",
    "print(s)\n",
    "print(s.union(s1))\n",
    "print(s | s1) #0r gives the union too\n",
    "print(s.intersection(s1))\n",
    "print(s & s1) # gives intersection of two sets too\n",
    "print(s.difference(s1))\n",
    "print(s - s1) #gives the difference too\n",
    "print(s ^ s1) #XOR"
   ]
  },
  {
   "cell_type": "code",
   "execution_count": null,
   "metadata": {},
   "outputs": [],
   "source": []
  }
 ],
 "metadata": {
  "kernelspec": {
   "display_name": "Python 3",
   "language": "python",
   "name": "python3"
  },
  "language_info": {
   "codemirror_mode": {
    "name": "ipython",
    "version": 3
   },
   "file_extension": ".py",
   "mimetype": "text/x-python",
   "name": "python",
   "nbconvert_exporter": "python",
   "pygments_lexer": "ipython3",
   "version": "3.7.6"
  }
 },
 "nbformat": 4,
 "nbformat_minor": 4
}
