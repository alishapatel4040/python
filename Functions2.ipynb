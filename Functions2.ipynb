{
 "cells": [
  {
   "cell_type": "markdown",
   "metadata": {},
   "source": [
    "Higher order functions\n",
    "- passing function as arguements for a function"
   ]
  },
  {
   "cell_type": "code",
   "execution_count": 2,
   "metadata": {},
   "outputs": [],
   "source": [
    "# function to find the sum of square/cube of n integers\n",
    "def sum(n, func):\n",
    "    \"\"\" This func will return either square or cube of n numbers\"\"\"\n",
    "    total = 0\n",
    "    for i in range(n+1):\n",
    "        total += func(i)\n",
    "    return total\n",
    "def square(x):\n",
    "    sq = x*x\n",
    "    return sq\n",
    "def cube(x):\n",
    "    cu = x*x*x\n",
    "    return cu\n",
    "#ret_value = sum(4,square)"
   ]
  },
  {
   "cell_type": "code",
   "execution_count": 3,
   "metadata": {},
   "outputs": [
    {
     "data": {
      "text/plain": [
       "30"
      ]
     },
     "execution_count": 3,
     "metadata": {},
     "output_type": "execute_result"
    }
   ],
   "source": [
    "sum(4,square)"
   ]
  },
  {
   "cell_type": "markdown",
   "metadata": {},
   "source": [
    "## Decorators"
   ]
  },
  {
   "cell_type": "code",
   "execution_count": 3,
   "metadata": {},
   "outputs": [],
   "source": [
    "# SIMPLE AUTHENTICATION FUNCTION\n",
    "users = {\"Kelly\": \"password\",\"Steve\": \"stevejobs\"}\n",
    "def show(username, password):\n",
    "    if username in users and users[username] == password:\n",
    "        print(\"Welcome to your account\")\n",
    "    else:\n",
    "        print(\"Incorrect username/password\")"
   ]
  },
  {
   "cell_type": "code",
   "execution_count": 5,
   "metadata": {},
   "outputs": [
    {
     "name": "stdout",
     "output_type": "stream",
     "text": [
      "Welcome to your account\n"
     ]
    }
   ],
   "source": [
    "show(\"Kelly\", \"password\")"
   ]
  },
  {
   "cell_type": "markdown",
   "metadata": {},
   "source": [
    "## Wrapper function \n",
    "- Example - def authentication(username, password, login)"
   ]
  },
  {
   "cell_type": "code",
   "execution_count": 6,
   "metadata": {},
   "outputs": [],
   "source": [
    "def temp(*args, **kwargs):\n",
    "    print(args)\n",
    "    print(kwargs)"
   ]
  },
  {
   "cell_type": "code",
   "execution_count": 8,
   "metadata": {},
   "outputs": [
    {
     "name": "stdout",
     "output_type": "stream",
     "text": [
      "(1, 2, 3)\n",
      "{}\n"
     ]
    }
   ],
   "source": [
    "a = (1,2,3)\n",
    "temp(*a)"
   ]
  },
  {
   "cell_type": "code",
   "execution_count": null,
   "metadata": {},
   "outputs": [],
   "source": [
    "def add(username, password, a, b):\n",
    "    if username in users and users[username] == password:\n",
    "        print(a+b)\n",
    "    else:\n",
    "        print(\"Not authenticated\")\n",
    "def login_required(func):\n",
    "    def wrapper(username,password,*args,**kwargs):\n",
    "        if username in users and users[username] == password:\n",
    "            #user is authenticated\n",
    "            func()\n",
    "        else:\n",
    "            print(\"Not an authenticated user\")"
   ]
  }
 ],
 "metadata": {
  "kernelspec": {
   "display_name": "Python 3",
   "language": "python",
   "name": "python3"
  },
  "language_info": {
   "codemirror_mode": {
    "name": "ipython",
    "version": 3
   },
   "file_extension": ".py",
   "mimetype": "text/x-python",
   "name": "python",
   "nbconvert_exporter": "python",
   "pygments_lexer": "ipython3",
   "version": "3.7.6"
  }
 },
 "nbformat": 4,
 "nbformat_minor": 4
}
