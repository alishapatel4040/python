{
 "cells": [
  {
   "cell_type": "code",
   "execution_count": 1,
   "metadata": {},
   "outputs": [
    {
     "name": "stdout",
     "output_type": "stream",
     "text": [
      "9\n",
      "1\n",
      "6\n"
     ]
    }
   ],
   "source": [
    "l = [1,2,3,6,9]\n",
    "print(max(l))\n",
    "print(min(l))\n",
    "#LINEAR SEARCH\n",
    "l1 = [7,8,9,9,10,2,3,3,4,5,6,6]\n",
    "print(l1.index(len(l1)/4))"
   ]
  },
  {
   "cell_type": "code",
   "execution_count": 3,
   "metadata": {},
   "outputs": [
    {
     "name": "stdout",
     "output_type": "stream",
     "text": [
      "[1, 2, 3, 6, 9]\n",
      "[10, 9, 9, 8, 7, 6, 6, 5, 4, 3, 3, 2]\n"
     ]
    }
   ],
   "source": [
    "sorted(l)\n",
    "#l.sort()\n",
    "print(l)\n",
    "l1.sort(reverse=True)\n",
    "print(l1)"
   ]
  },
  {
   "cell_type": "code",
   "execution_count": null,
   "metadata": {},
   "outputs": [],
   "source": []
  }
 ],
 "metadata": {
  "kernelspec": {
   "display_name": "Python 3",
   "language": "python",
   "name": "python3"
  },
  "language_info": {
   "codemirror_mode": {
    "name": "ipython",
    "version": 3
   },
   "file_extension": ".py",
   "mimetype": "text/x-python",
   "name": "python",
   "nbconvert_exporter": "python",
   "pygments_lexer": "ipython3",
   "version": "3.7.6"
  }
 },
 "nbformat": 4,
 "nbformat_minor": 4
}
