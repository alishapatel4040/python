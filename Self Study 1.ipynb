{
 "cells": [
  {
   "cell_type": "code",
   "execution_count": 3,
   "metadata": {},
   "outputs": [
    {
     "name": "stdout",
     "output_type": "stream",
     "text": [
      "Alisha Patel\n"
     ]
    }
   ],
   "source": [
    "print(\"Alisha Patel\") #hi"
   ]
  },
  {
   "cell_type": "code",
   "execution_count": 2,
   "metadata": {},
   "outputs": [
    {
     "name": "stdout",
     "output_type": "stream",
     "text": [
      "12\n"
     ]
    }
   ],
   "source": [
    "x = 12\n",
    "print (x)"
   ]
  },
  {
   "cell_type": "markdown",
   "metadata": {},
   "source": [
    "The below is a multiline comment"
   ]
  },
  {
   "cell_type": "code",
   "execution_count": 2,
   "metadata": {},
   "outputs": [
    {
     "data": {
      "text/plain": [
       "'Hey buddy\\nwhat are you upto '"
      ]
     },
     "execution_count": 2,
     "metadata": {},
     "output_type": "execute_result"
    }
   ],
   "source": [
    "\"\"\"Hey buddy\n",
    "what are you upto \"\"\""
   ]
  },
  {
   "cell_type": "markdown",
   "metadata": {},
   "source": [
    "#### Strings\n",
    "- single, double, triple quotes\n",
    "- escape sequences (\\n, \\t, \\r)"
   ]
  },
  {
   "cell_type": "code",
   "execution_count": 4,
   "metadata": {},
   "outputs": [
    {
     "name": "stdout",
     "output_type": "stream",
     "text": [
      "HI\n",
      "hi\n",
      "hi\n"
     ]
    }
   ],
   "source": [
    "print ('HI')\n",
    "print (\"hi\")\n",
    "print (\"\"\"hi\"\"\")"
   ]
  },
  {
   "cell_type": "code",
   "execution_count": 1,
   "metadata": {},
   "outputs": [
    {
     "name": "stdout",
     "output_type": "stream",
     "text": [
      "enter number:24\n",
      "24\n",
      "enter a name:asha wuhuuu\n",
      "asha wuhuuu\n",
      "type of num <class 'str'>\n",
      "type of name <class 'str'>\n"
     ]
    }
   ],
   "source": [
    "num = input(\"enter number:\")\n",
    "print(num)\n",
    "name = input(\"enter a name:\")\n",
    "print(name)\n",
    "\n",
    "#print type of inputs above\n",
    "print(\"type of num\",type(num))\n",
    "print(\"type of name\", type(name))"
   ]
  },
  {
   "cell_type": "code",
   "execution_count": 2,
   "metadata": {},
   "outputs": [
    {
     "name": "stdout",
     "output_type": "stream",
     "text": [
      "Isha is 15 years old but has a mind of 24 years old\n"
     ]
    }
   ],
   "source": [
    "str = (\"Isha is %s years old but has a mind of %s years old\"%(\"15\",\"24\"))\n",
    "print(str)"
   ]
  },
  {
   "cell_type": "code",
   "execution_count": 3,
   "metadata": {},
   "outputs": [
    {
     "name": "stdout",
     "output_type": "stream",
     "text": [
      "Isha is 15 years old but has a mind of 24 years old\n"
     ]
    }
   ],
   "source": [
    "str = (\"Isha is %d years old but has a mind of %d years old\"%(15,24))\n",
    "print(str)"
   ]
  },
  {
   "cell_type": "code",
   "execution_count": 4,
   "metadata": {},
   "outputs": [
    {
     "name": "stdout",
     "output_type": "stream",
     "text": [
      "isha is 15 years old but has a 24 year old brain\n",
      "isha is 15 years old but has a 24 year old brain\n"
     ]
    }
   ],
   "source": [
    "str1 = \"isha is {} years old but has a {} year old brain\".format(15,24)\n",
    "age1 = 15\n",
    "age2 = 24\n",
    "xy = f\"isha is {age1} years old but has a {age2} year old brain\"\n",
    "print(xy)\n",
    "print(str1)"
   ]
  },
  {
   "cell_type": "code",
   "execution_count": 2,
   "metadata": {},
   "outputs": [
    {
     "name": "stdout",
     "output_type": "stream",
     "text": [
      "I want to be a data scientist\n",
      "Data Scientists are awesome\n",
      "A,#B,#ABC\n"
     ]
    }
   ],
   "source": [
    "print(\"I want to be a data scientist\", end= \"\\n\")\n",
    "print(\"Data Scientists are awesome\")\n",
    "print(\"A\",\"B\",\"ABC\", sep = ',#')"
   ]
  },
  {
   "cell_type": "markdown",
   "metadata": {},
   "source": [
    "taking input"
   ]
  },
  {
   "cell_type": "code",
   "execution_count": 3,
   "metadata": {},
   "outputs": [
    {
     "name": "stdout",
     "output_type": "stream",
     "text": [
      "16\n",
      "16\n",
      "Ishiqa is 16 years old\n"
     ]
    }
   ],
   "source": [
    "age = int(input())\n",
    "print(age)\n",
    "print(\"Ishiqa is \"+str(age)+ \" years old\")"
   ]
  },
  {
   "cell_type": "markdown",
   "metadata": {},
   "source": [
    "Split()"
   ]
  },
  {
   "cell_type": "code",
   "execution_count": 26,
   "metadata": {},
   "outputs": [
    {
     "name": "stdout",
     "output_type": "stream",
     "text": [
      "['10', '20', '30', '40', '50']\n",
      "['apple and banana', 'cherry', 'orange']\n"
     ]
    }
   ],
   "source": [
    "l = \"10 20 30 40 50\".split()\n",
    "print(l)\n",
    "str1 = \"apple and banana,cherry,orange\".split(\",\")\n",
    "print(str1)"
   ]
  },
  {
   "cell_type": "code",
   "execution_count": null,
   "metadata": {},
   "outputs": [],
   "source": []
  }
 ],
 "metadata": {
  "kernelspec": {
   "display_name": "Python 3",
   "language": "python",
   "name": "python3"
  },
  "language_info": {
   "codemirror_mode": {
    "name": "ipython",
    "version": 3
   },
   "file_extension": ".py",
   "mimetype": "text/x-python",
   "name": "python",
   "nbconvert_exporter": "python",
   "pygments_lexer": "ipython3",
   "version": "3.7.6"
  }
 },
 "nbformat": 4,
 "nbformat_minor": 4
}
