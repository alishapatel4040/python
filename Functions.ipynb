{
 "cells": [
  {
   "cell_type": "markdown",
   "metadata": {},
   "source": [
    "Function cannot be used as a method\n",
    "- for eg., st.replace() is a method , we cannot write st.eat_almonds()"
   ]
  },
  {
   "cell_type": "code",
   "execution_count": 1,
   "metadata": {},
   "outputs": [],
   "source": [
    "def eat_almonds(name, no_of_almonds = 2):\n",
    "    \"\"\" This function will print Ishiqa's almond eating habits\"\"\" #docstring\n",
    "    for i in range(no_of_almonds):\n",
    "        print(f\"{name} has to eat {i} almonds\")\n",
    "        "
   ]
  },
  {
   "cell_type": "code",
   "execution_count": 2,
   "metadata": {},
   "outputs": [
    {
     "name": "stdout",
     "output_type": "stream",
     "text": [
      "Isha has to eat 0 almonds\n",
      "Isha has to eat 1 almonds\n",
      "Isha has to eat 2 almonds\n",
      "Isha has to eat 3 almonds\n",
      "Isha has to eat 4 almonds\n",
      "Isha has to eat 5 almonds\n",
      "Isha has to eat 6 almonds\n",
      "Isha has to eat 7 almonds\n",
      "Isha has to eat 8 almonds\n"
     ]
    }
   ],
   "source": [
    "eat_almonds(\"Isha\", 9)"
   ]
  },
  {
   "cell_type": "code",
   "execution_count": 3,
   "metadata": {},
   "outputs": [],
   "source": [
    "def division(a,b):\n",
    "    \"\"\" This function will divide a by b\"\"\" \n",
    "    try:\n",
    "        print(a/b)\n",
    "    except:\n",
    "        print(\"b cant be zero\")\n",
    "    finally:\n",
    "        print(\"wrapping up\")\n",
    "        return 10"
   ]
  },
  {
   "cell_type": "code",
   "execution_count": 4,
   "metadata": {},
   "outputs": [
    {
     "name": "stdout",
     "output_type": "stream",
     "text": [
      "3.0\n",
      "wrapping up\n",
      "10\n"
     ]
    }
   ],
   "source": [
    "x = division(6,2)\n",
    "print(x)"
   ]
  },
  {
   "cell_type": "markdown",
   "metadata": {},
   "source": [
    "Local and global variable"
   ]
  },
  {
   "cell_type": "code",
   "execution_count": 5,
   "metadata": {},
   "outputs": [
    {
     "name": "stdout",
     "output_type": "stream",
     "text": [
      "15\n",
      "15\n"
     ]
    }
   ],
   "source": [
    "y = 10 #global variable\n",
    "def show():\n",
    "    global y #this will define y for the below statement\n",
    "    y += 5 #only this statement will give error as local variable isnt defined yet\n",
    "    #y=6 #local variable\n",
    "    print(y)\n",
    "show()\n",
    "print(y) #local variable will not change the global variable"
   ]
  },
  {
   "cell_type": "code",
   "execution_count": 6,
   "metadata": {},
   "outputs": [],
   "source": [
    "u = 20\n",
    "v = 10\n",
    "def show():\n",
    "    v = \"local\"\n",
    "    #v = 10\n",
    "    print(u)\n",
    "    print(v)"
   ]
  },
  {
   "cell_type": "code",
   "execution_count": 7,
   "metadata": {},
   "outputs": [
    {
     "name": "stdout",
     "output_type": "stream",
     "text": [
      "20\n",
      "local\n",
      "20\n",
      "10\n"
     ]
    }
   ],
   "source": [
    "show()\n",
    "print(u)\n",
    "print(v)"
   ]
  },
  {
   "cell_type": "code",
   "execution_count": 3,
   "metadata": {},
   "outputs": [],
   "source": [
    "# del w"
   ]
  },
  {
   "cell_type": "code",
   "execution_count": 1,
   "metadata": {},
   "outputs": [
    {
     "name": "stdout",
     "output_type": "stream",
     "text": [
      "36\n"
     ]
    }
   ],
   "source": [
    "#function inside a function\n",
    "#w = 31\n",
    "def outer():\n",
    "    w = 31\n",
    "   # global w\n",
    "   # w = \"local\"\n",
    "    def inner():\n",
    "        #enclosure\n",
    "        nonlocal w #nonlocal tells python that w lies within the enclosing function\n",
    "        #global w\n",
    "        w+=5\n",
    "        print(w)\n",
    "    inner()\n",
    "    #print(w)\n",
    "outer()"
   ]
  },
  {
   "cell_type": "code",
   "execution_count": null,
   "metadata": {},
   "outputs": [],
   "source": []
  }
 ],
 "metadata": {
  "kernelspec": {
   "display_name": "Python 3",
   "language": "python",
   "name": "python3"
  },
  "language_info": {
   "codemirror_mode": {
    "name": "ipython",
    "version": 3
   },
   "file_extension": ".py",
   "mimetype": "text/x-python",
   "name": "python",
   "nbconvert_exporter": "python",
   "pygments_lexer": "ipython3",
   "version": "3.7.6"
  }
 },
 "nbformat": 4,
 "nbformat_minor": 4
}
