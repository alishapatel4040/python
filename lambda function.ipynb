{
 "cells": [
  {
   "cell_type": "markdown",
   "metadata": {},
   "source": [
    "# Lambda Function\n",
    "- One line function\n",
    "- Syntax: \n",
    "    - lambda argument : manipulate(argument)"
   ]
  },
  {
   "cell_type": "code",
   "execution_count": 2,
   "metadata": {},
   "outputs": [
    {
     "name": "stdout",
     "output_type": "stream",
     "text": [
      "9\n"
     ]
    }
   ],
   "source": [
    "add = lambda x,y: x+y\n",
    "print(add(4,5))"
   ]
  },
  {
   "cell_type": "code",
   "execution_count": 8,
   "metadata": {},
   "outputs": [
    {
     "name": "stdout",
     "output_type": "stream",
     "text": [
      "[(1, 5), (3, 4), (4, 3), (555, 34)]\n",
      "[(1, 2), (4, 5), (555, 34)]\n",
      "[1, 2, 3, 4]\n"
     ]
    }
   ],
   "source": [
    "#List Sorting\n",
    "a = [(4,3), (1,5), (3,4), (555,34)]\n",
    "b = [(1,2), (4,5), (555,34)]\n",
    "a.sort(key=lambda x:x[0])\n",
    "b.sort(key=lambda x:x[1])\n",
    "print(a)\n",
    "print(b)\n",
    "print(c)"
   ]
  },
  {
   "cell_type": "code",
   "execution_count": null,
   "metadata": {},
   "outputs": [],
   "source": []
  }
 ],
 "metadata": {
  "kernelspec": {
   "display_name": "Python 3",
   "language": "python",
   "name": "python3"
  },
  "language_info": {
   "codemirror_mode": {
    "name": "ipython",
    "version": 3
   },
   "file_extension": ".py",
   "mimetype": "text/x-python",
   "name": "python",
   "nbconvert_exporter": "python",
   "pygments_lexer": "ipython3",
   "version": "3.7.6"
  }
 },
 "nbformat": 4,
 "nbformat_minor": 4
}
